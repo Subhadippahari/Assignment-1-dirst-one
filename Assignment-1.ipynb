{
 "cells": [
  {
   "cell_type": "markdown",
   "id": "5fadf8ad-83bf-4e5d-a99b-34c8d2bda14b",
   "metadata": {},
   "source": [
    "Q1. Create one variable containing following type of data:\n",
    "(i) string\n",
    "(ii) list\n",
    "(iii) float\n",
    "(iv) tuple"
   ]
  },
  {
   "cell_type": "code",
   "execution_count": 3,
   "id": "cc052777-9dc5-4927-a8ba-46877958d089",
   "metadata": {},
   "outputs": [],
   "source": [
    "a=\"subha\"\n",
    "b=[\"subha\",12,True]\n",
    "c=23\n",
    "d=(\"subha\",\"dip\",24)"
   ]
  },
  {
   "cell_type": "code",
   "execution_count": 10,
   "id": "076e07d1-b9bb-4293-b9dc-8ab71e347ed1",
   "metadata": {},
   "outputs": [
    {
     "data": {
      "text/plain": [
       "str"
      ]
     },
     "execution_count": 10,
     "metadata": {},
     "output_type": "execute_result"
    }
   ],
   "source": [
    "type(a)"
   ]
  },
  {
   "cell_type": "code",
   "execution_count": 11,
   "id": "6fa45131-ad83-4aa9-a0c3-826328e2c021",
   "metadata": {},
   "outputs": [
    {
     "data": {
      "text/plain": [
       "list"
      ]
     },
     "execution_count": 11,
     "metadata": {},
     "output_type": "execute_result"
    }
   ],
   "source": [
    "type(b)"
   ]
  },
  {
   "cell_type": "code",
   "execution_count": 12,
   "id": "4a919998-4aa8-417a-a130-4f8b1e31baa2",
   "metadata": {},
   "outputs": [
    {
     "data": {
      "text/plain": [
       "int"
      ]
     },
     "execution_count": 12,
     "metadata": {},
     "output_type": "execute_result"
    }
   ],
   "source": [
    "type(c)"
   ]
  },
  {
   "cell_type": "code",
   "execution_count": 13,
   "id": "7543ce47-2d28-459c-aaf8-d9075871cb22",
   "metadata": {},
   "outputs": [
    {
     "data": {
      "text/plain": [
       "tuple"
      ]
     },
     "execution_count": 13,
     "metadata": {},
     "output_type": "execute_result"
    }
   ],
   "source": [
    "type(d)"
   ]
  },
  {
   "cell_type": "markdown",
   "id": "50d3f743-66e9-46f0-9019-2c32019193ca",
   "metadata": {},
   "source": [
    "Q2. Given are some following variables containing data:\n",
    "(i) var1 = ‘ ‘\n",
    "(ii) var2 = ‘[ DS , ML , Python]’\n",
    "(iii) var3 = [ ‘DS’ , ’ML’ , ‘Python’ ]\n",
    "(iv) var4 = 1.\n",
    "What will be the data type of the above given variable."
   ]
  },
  {
   "cell_type": "code",
   "execution_count": 15,
   "id": "d5c31d2c-622c-473f-9c5f-4aab35cdf56f",
   "metadata": {},
   "outputs": [],
   "source": [
    "var1=''\n",
    "var2='[DS,ML,Python]'\n",
    "var3=['DS','ML','Python']\n",
    "var4=1"
   ]
  },
  {
   "cell_type": "code",
   "execution_count": 16,
   "id": "a31626a0-5942-4885-8ce4-f75b14f90462",
   "metadata": {},
   "outputs": [
    {
     "data": {
      "text/plain": [
       "str"
      ]
     },
     "execution_count": 16,
     "metadata": {},
     "output_type": "execute_result"
    }
   ],
   "source": [
    "type(var1)"
   ]
  },
  {
   "cell_type": "code",
   "execution_count": 17,
   "id": "95e6fad9-f1c8-4e96-856c-a59637736baf",
   "metadata": {},
   "outputs": [
    {
     "data": {
      "text/plain": [
       "str"
      ]
     },
     "execution_count": 17,
     "metadata": {},
     "output_type": "execute_result"
    }
   ],
   "source": [
    "type(var2)"
   ]
  },
  {
   "cell_type": "code",
   "execution_count": 18,
   "id": "58065190-738b-404f-ae57-981874750534",
   "metadata": {},
   "outputs": [
    {
     "data": {
      "text/plain": [
       "list"
      ]
     },
     "execution_count": 18,
     "metadata": {},
     "output_type": "execute_result"
    }
   ],
   "source": [
    "type(var3)"
   ]
  },
  {
   "cell_type": "code",
   "execution_count": 19,
   "id": "0a4e71ff-d796-40c0-8b95-723c7d73622b",
   "metadata": {},
   "outputs": [
    {
     "data": {
      "text/plain": [
       "int"
      ]
     },
     "execution_count": 19,
     "metadata": {},
     "output_type": "execute_result"
    }
   ],
   "source": [
    "type(var4)"
   ]
  },
  {
   "cell_type": "markdown",
   "id": "0c37b45d-2135-4e01-ab0e-5ebd0836a88a",
   "metadata": {},
   "source": [
    "Q3. Explain the use of the following operators using an example:\n",
    "(i) /\n",
    "(ii) %\n",
    "(iii) //\n",
    "(iv) **"
   ]
  },
  {
   "cell_type": "code",
   "execution_count": 20,
   "id": "e9c9b3d4-896c-4da9-8506-b217bcdceb3e",
   "metadata": {},
   "outputs": [],
   "source": [
    "a=10\n",
    "b=100"
   ]
  },
  {
   "cell_type": "code",
   "execution_count": 21,
   "id": "7dd91c66-6167-4b56-bb43-1ef4fd068098",
   "metadata": {},
   "outputs": [
    {
     "data": {
      "text/plain": [
       "0.1"
      ]
     },
     "execution_count": 21,
     "metadata": {},
     "output_type": "execute_result"
    }
   ],
   "source": [
    "a/b"
   ]
  },
  {
   "cell_type": "code",
   "execution_count": 22,
   "id": "f3de7225-17b4-4b69-85d7-1dd157fb41af",
   "metadata": {},
   "outputs": [
    {
     "data": {
      "text/plain": [
       "10"
      ]
     },
     "execution_count": 22,
     "metadata": {},
     "output_type": "execute_result"
    }
   ],
   "source": [
    "a%b"
   ]
  },
  {
   "cell_type": "code",
   "execution_count": 23,
   "id": "6a18728f-0bf0-41fe-ac94-f365f05a5577",
   "metadata": {},
   "outputs": [
    {
     "data": {
      "text/plain": [
       "0"
      ]
     },
     "execution_count": 23,
     "metadata": {},
     "output_type": "execute_result"
    }
   ],
   "source": [
    "a//b"
   ]
  },
  {
   "cell_type": "code",
   "execution_count": 24,
   "id": "76e3f6ea-aa69-4d55-884e-8ba7933f4e0f",
   "metadata": {},
   "outputs": [
    {
     "data": {
      "text/plain": [
       "10000000000000000000000000000000000000000000000000000000000000000000000000000000000000000000000000000"
      ]
     },
     "execution_count": 24,
     "metadata": {},
     "output_type": "execute_result"
    }
   ],
   "source": [
    "a**b"
   ]
  },
  {
   "cell_type": "markdown",
   "id": "78e16235-ae31-49c3-8926-1e5ed14eb420",
   "metadata": {},
   "source": [
    "Q4. Create a list of length 10 of your choice containing multiple types of data. Using for loop print the\n",
    "element and its data type."
   ]
  },
  {
   "cell_type": "code",
   "execution_count": 25,
   "id": "8cf88245-eedb-49a1-8abf-ed35c4e3b8ca",
   "metadata": {},
   "outputs": [],
   "source": [
    "l=[\"subha\",True,4+5j,[\"a\",\"b\",\"c\"],1,2,3,4,5,6]"
   ]
  },
  {
   "cell_type": "code",
   "execution_count": 30,
   "id": "cdf394ee-f301-431f-a91e-13ff530917f0",
   "metadata": {},
   "outputs": [
    {
     "name": "stdout",
     "output_type": "stream",
     "text": [
      "subha\n",
      "<class 'str'>\n",
      "True\n",
      "<class 'bool'>\n",
      "(4+5j)\n",
      "<class 'complex'>\n",
      "['a', 'b', 'c']\n",
      "<class 'list'>\n",
      "1\n",
      "<class 'int'>\n",
      "2\n",
      "<class 'int'>\n",
      "3\n",
      "<class 'int'>\n",
      "4\n",
      "<class 'int'>\n",
      "5\n",
      "<class 'int'>\n",
      "6\n",
      "<class 'int'>\n"
     ]
    }
   ],
   "source": [
    "for i in l:\n",
    "    print(i)\n",
    "    print(type(i))"
   ]
  },
  {
   "cell_type": "markdown",
   "id": "9a4f44aa-3dfd-4408-9b48-2a895c476345",
   "metadata": {},
   "source": [
    "Q5. Using a while loop, verify if the number A is purely divisible by number B and if so then how many\n",
    "times it can be divisible."
   ]
  },
  {
   "cell_type": "code",
   "execution_count": null,
   "id": "a68532f7-5a4a-401c-afea-e2e3293d8545",
   "metadata": {},
   "outputs": [],
   "source": [
    "A=int(input())\n",
    "B=int(input())\n",
    "if A"
   ]
  },
  {
   "cell_type": "code",
   "execution_count": null,
   "id": "f4b35908-8e83-467e-bcc2-9cb649220703",
   "metadata": {},
   "outputs": [],
   "source": []
  },
  {
   "cell_type": "markdown",
   "id": "4f4fad8b-a1da-4bb7-a158-2a5e227d753d",
   "metadata": {},
   "source": [
    "Q6. Create a list containing 25 int type data. Using for loop and if-else condition print if the element is\n",
    "divisible by 3 or not."
   ]
  },
  {
   "cell_type": "code",
   "execution_count": 1,
   "id": "62556973-3fa8-4a30-9ee9-3021d240b4fa",
   "metadata": {},
   "outputs": [],
   "source": [
    "l1=[]\n",
    "l2=[]\n",
    "for i in range(0,26):\n",
    "    if i%3==0:\n",
    "        l1.append(i)\n",
    "    else:\n",
    "        l2.append(i)\n",
    "    "
   ]
  },
  {
   "cell_type": "code",
   "execution_count": 2,
   "id": "2f912465-1cbb-46be-8588-5e7e68a9286b",
   "metadata": {},
   "outputs": [
    {
     "data": {
      "text/plain": [
       "[0, 3, 6, 9, 12, 15, 18, 21, 24]"
      ]
     },
     "execution_count": 2,
     "metadata": {},
     "output_type": "execute_result"
    }
   ],
   "source": [
    "l1"
   ]
  },
  {
   "cell_type": "code",
   "execution_count": 3,
   "id": "c3ee5ea7-cb4e-481c-b17c-e42f42cb356b",
   "metadata": {},
   "outputs": [
    {
     "data": {
      "text/plain": [
       "[1, 2, 4, 5, 7, 8, 10, 11, 13, 14, 16, 17, 19, 20, 22, 23, 25]"
      ]
     },
     "execution_count": 3,
     "metadata": {},
     "output_type": "execute_result"
    }
   ],
   "source": [
    "l2"
   ]
  },
  {
   "cell_type": "markdown",
   "id": "7e639052-11f3-465d-831b-5c4b76d584a5",
   "metadata": {},
   "source": [
    "Q7. What do you understand about mutable and immutable data types? Give examples for both showing\n",
    "this property."
   ]
  },
  {
   "cell_type": "markdown",
   "id": "8b101fa5-f560-4a9d-8af1-24acd048face",
   "metadata": {},
   "source": [
    "An object that allows you to change its values without changing its identity is a mutable object. The changes that you can perform on a mutable object's value are known as mutations. In contrast, an object that doesn't allow changes in its value is an immutable object."
   ]
  },
  {
   "cell_type": "code",
   "execution_count": 4,
   "id": "b97a0283-859e-44cf-a873-ee177aa53368",
   "metadata": {},
   "outputs": [],
   "source": [
    "l=[1,2,3,4,545,6]"
   ]
  },
  {
   "cell_type": "code",
   "execution_count": 6,
   "id": "1837665d-4be1-46d4-87e5-52a137a1d78a",
   "metadata": {},
   "outputs": [
    {
     "data": {
      "text/plain": [
       "6"
      ]
     },
     "execution_count": 6,
     "metadata": {},
     "output_type": "execute_result"
    }
   ],
   "source": [
    "l[5]"
   ]
  },
  {
   "cell_type": "markdown",
   "id": "a534f15a-2e0e-42f4-b396-780f6dfa12c6",
   "metadata": {},
   "source": [
    "we can change it"
   ]
  },
  {
   "cell_type": "code",
   "execution_count": 7,
   "id": "57dacefe-6f49-43d1-b5f7-3263cc34eb32",
   "metadata": {},
   "outputs": [],
   "source": [
    "l[5]=\"subha\""
   ]
  },
  {
   "cell_type": "code",
   "execution_count": 8,
   "id": "50282438-c3e7-4656-a931-9e8b74823683",
   "metadata": {},
   "outputs": [
    {
     "data": {
      "text/plain": [
       "[1, 2, 3, 4, 545, 'subha']"
      ]
     },
     "execution_count": 8,
     "metadata": {},
     "output_type": "execute_result"
    }
   ],
   "source": [
    "l"
   ]
  },
  {
   "cell_type": "markdown",
   "id": "00fbbaff-8bc3-41ec-a50d-d8f96c6ae78f",
   "metadata": {},
   "source": [
    "so list is a mutable object"
   ]
  },
  {
   "cell_type": "markdown",
   "id": "203dc291-71a2-4d5c-b0bc-37fa2b3e395d",
   "metadata": {},
   "source": [
    "but for immutable object we cannot change it "
   ]
  },
  {
   "cell_type": "code",
   "execution_count": 11,
   "id": "e58c6e69-fbd6-4567-bd9e-4fb9d99b430a",
   "metadata": {},
   "outputs": [],
   "source": [
    "d=\"subhadip\""
   ]
  },
  {
   "cell_type": "code",
   "execution_count": 12,
   "id": "901fab5e-6287-427b-a366-92925087aa5d",
   "metadata": {},
   "outputs": [
    {
     "data": {
      "text/plain": [
       "'i'"
      ]
     },
     "execution_count": 12,
     "metadata": {},
     "output_type": "execute_result"
    }
   ],
   "source": [
    "d[6]"
   ]
  },
  {
   "cell_type": "code",
   "execution_count": 14,
   "id": "66cd354b-8677-4ef3-98b9-d8e6127e4884",
   "metadata": {},
   "outputs": [
    {
     "ename": "TypeError",
     "evalue": "'str' object does not support item assignment",
     "output_type": "error",
     "traceback": [
      "\u001b[0;31m---------------------------------------------------------------------------\u001b[0m",
      "\u001b[0;31mTypeError\u001b[0m                                 Traceback (most recent call last)",
      "Cell \u001b[0;32mIn[14], line 1\u001b[0m\n\u001b[0;32m----> 1\u001b[0m \u001b[43md\u001b[49m\u001b[43m[\u001b[49m\u001b[38;5;241;43m6\u001b[39;49m\u001b[43m]\u001b[49m\u001b[38;5;241m=\u001b[39md\n",
      "\u001b[0;31mTypeError\u001b[0m: 'str' object does not support item assignment"
     ]
    }
   ],
   "source": [
    "d[6]=d"
   ]
  },
  {
   "cell_type": "markdown",
   "id": "1d52a988-b77b-40bf-b482-60bd87a1fc5d",
   "metadata": {},
   "source": [
    "so string is a immutable object"
   ]
  }
 ],
 "metadata": {
  "kernelspec": {
   "display_name": "Python 3 (ipykernel)",
   "language": "python",
   "name": "python3"
  },
  "language_info": {
   "codemirror_mode": {
    "name": "ipython",
    "version": 3
   },
   "file_extension": ".py",
   "mimetype": "text/x-python",
   "name": "python",
   "nbconvert_exporter": "python",
   "pygments_lexer": "ipython3",
   "version": "3.10.8"
  }
 },
 "nbformat": 4,
 "nbformat_minor": 5
}
